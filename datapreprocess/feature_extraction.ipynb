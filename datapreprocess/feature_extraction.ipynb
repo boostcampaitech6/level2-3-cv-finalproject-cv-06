{
 "cells": [
  {
   "cell_type": "code",
   "execution_count": 1,
   "metadata": {},
   "outputs": [],
   "source": [
    "from collections import defaultdict\n",
    "import cv2\n",
    "import numpy as np\n",
    "import pandas as pd\n",
    "from ultralytics import YOLO\n",
    "import csv\n",
    "import os\n",
    "from copy import deepcopy\n",
    "\n",
    "from datetime import datetime"
   ]
  },
  {
   "cell_type": "code",
   "execution_count": 2,
   "metadata": {},
   "outputs": [],
   "source": [
    "root = \"/data/ephemeral/home/datasets/normal/VS_01.매장이동_01.매장이동/\"\n",
    "\n",
    "folder_name = \"VS_01.매장이동_01.매장이동\"\n",
    "\n",
    "header = [\n",
    "    \"Frame\",\n",
    "    \"ID\",\n",
    "    \"X\",\n",
    "    \"Y\",\n",
    "    \"Width\",\n",
    "    \"Height\",\n",
    "    \"Keypoint_0\",\n",
    "    \"Keypoint_1\",\n",
    "    \"Keypoint_2\",\n",
    "    \"Keypoint_3\",\n",
    "    \"Keypoint_4\",\n",
    "    \"Keypoint_5\",\n",
    "    \"Keypoint_6\",\n",
    "    \"Keypoint_7\",\n",
    "    \"Keypoint_8\",\n",
    "    \"Keypoint_9\",\n",
    "    \"Keypoint_10\",\n",
    "    \"Keypoint_11\",\n",
    "    \"Keypoint_12\",\n",
    "    \"Keypoint_13\",\n",
    "    \"Keypoint_14\",\n",
    "    \"Keypoint_15\",\n",
    "    \"Keypoint_16\",\n",
    "    \"Keypoint_17\",\n",
    "    \"Keypoint_18\",\n",
    "    \"Keypoint_19\",\n",
    "    \"Keypoint_20\",\n",
    "    \"Keypoint_21\",\n",
    "    \"Keypoint_22\",\n",
    "    \"Keypoint_23\",\n",
    "    \"Keypoint_24\",\n",
    "    \"Keypoint_25\",\n",
    "    \"Keypoint_26\",\n",
    "    \"Keypoint_27\",\n",
    "    \"Keypoint_28\",\n",
    "    \"Keypoint_29\",\n",
    "    \"Keypoint_30\",\n",
    "    \"Keypoint_31\",\n",
    "    \"Keypoint_32\",\n",
    "    \"Keypoint_33\",\n",
    "]"
   ]
  },
  {
   "cell_type": "code",
   "execution_count": 3,
   "metadata": {},
   "outputs": [],
   "source": [
    "with open(f\"{folder_name}.csv\", \"w\") as c_file:\n",
    "    writer = csv.writer(c_file, delimiter=\",\")\n",
    "\n",
    "    writer.writerow(header)"
   ]
  },
  {
   "cell_type": "code",
   "execution_count": 4,
   "metadata": {},
   "outputs": [
    {
     "name": "stdout",
     "output_type": "stream",
     "text": [
      "==>> file_list: ['C_1_1_93_BU_DYB_10-19_11-51-57_CC_DF1_F4_F4.mp4', 'C_1_1_93_BU_DYB_10-19_11-51-57_CE_DF1_F4_F4.mp4', 'C_1_1_88_BU_DYA_07-18_16-17-30_d_DF1_F2_M2.mp4', 'C_1_1_88_BU_DYB_10-19_10-56-16_CD_DF1_F4_F4.mp4', 'C_1_1_92_BU_DYA_07-18_16-42-53_a_DF1_F2_F2.mp4', 'C_1_1_86_BU_DYA_07-18_16-00-04_f_DF1_F2_F2.mp4', 'C_1_1_92_BU_DYB_10-19_11-45-54_CE_DF1_F4_F4.mp4', 'C_1_1_89_BU_DYB_10-19_11-02-29_CB_DF1_F4_F4.mp4', 'C_1_1_90_BU_DYB_10-19_11-08-25_CC_DF1_F4_F4.mp4', 'C_1_1_93_BU_DYB_10-19_11-51-57_CA_DF1_F4_F4.mp4', 'C_1_1_92_BU_DYA_07-18_16-42-53_f_DF1_F2_F2.mp4', 'C_1_1_91_BU_DYA_07-18_16-36-43_b_DF1_F2_M2.mp4', 'C_1_1_93_BU_DYB_10-19_11-51-57_CB_DF1_F4_F4.mp4', 'C_1_1_86_BU_DYB_10-19_13-43-22_CB_DF1_M4_M4.mp4', 'C_1_1_87_BU_DYA_07-18_16-08-05_a_DF1_F2_M2.mp4', 'C_1_1_87_BU_DYB_10-19_13-49-35_CB_DF1_M4_M4.mp4', 'C_1_1_92_BU_DYB_10-19_11-45-54_CD_DF1_F4_F4.mp4', 'C_1_1_90_BU_DYA_07-18_16-30-36_c_DF1_F2_M2.mp4', 'C_1_1_90_BU_DYB_10-19_11-08-25_CD_DF1_F4_F4.mp4', 'C_1_1_90_BU_DYA_07-18_16-30-36_d_DF1_F2_M2.mp4', 'C_1_1_85_BU_DYB_10-19_13-12-56_CD_DF1_M4_M4.mp4', 'C_1_1_89_BU_DYB_10-19_11-02-29_CC_DF1_F4_F4.mp4', 'C_1_1_90_BU_DYB_10-19_11-08-25_CB_DF1_F4_F4.mp4', 'C_1_1_93_BU_DYA_07-18_17-06-38_d_DF1_F2_M2.mp4', 'C_1_1_87_BU_DYA_07-18_16-08-05_d_DF1_F2_M2.mp4', 'C_1_1_93_BU_DYA_07-18_17-06-38_c_DF1_F2_M2.mp4', 'C_1_1_85_BU_DYB_10-19_13-12-56_CF_DF1_M4_M4.mp4', 'C_1_1_92_BU_DYB_10-19_11-45-54_CA_DF1_F4_F4.mp4', 'C_1_1_88_BU_DYA_07-18_16-17-30_c_DF1_F2_M2.mp4', 'C_1_1_90_BU_DYB_10-19_11-08-25_CF_DF1_F4_F4.mp4', 'C_1_1_89_BU_DYB_10-19_11-02-29_CF_DF1_F4_F4.mp4', 'C_1_1_88_BU_DYA_07-18_16-17-30_e_DF1_F2_M2.mp4', 'C_1_1_92_BU_DYA_07-18_16-42-53_c_DF1_F2_F2.mp4', 'C_1_1_86_BU_DYB_10-19_13-43-22_CC_DF1_M4_M4.mp4', 'C_1_1_91_BU_DYB_10-19_11-40-03_CE_DF1_F4_F4.mp4', 'C_1_1_86_BU_DYB_10-19_13-43-22_CF_DF1_M4_M4.mp4', 'C_1_1_90_BU_DYA_07-18_16-30-36_f_DF1_F2_M2.mp4', 'C_1_1_85_BU_DYB_10-19_13-12-56_CE_DF1_M4_M4.mp4', 'C_1_1_87_BU_DYB_10-19_13-49-35_CD_DF1_M4_M4.mp4', 'C_1_1_90_BU_DYB_10-19_11-08-25_CE_DF1_F4_F4.mp4', 'C_1_1_92_BU_DYB_10-19_11-45-54_CC_DF1_F4_F4.mp4', 'C_1_1_91_BU_DYA_07-18_16-36-43_f_DF1_F2_M2.mp4', 'C_1_1_91_BU_DYA_07-18_16-36-43_e_DF1_F2_M2.mp4', 'C_1_1_91_BU_DYB_10-19_11-40-03_CC_DF1_F4_F4.mp4', 'C_1_1_87_BU_DYA_07-18_16-08-05_b_DF1_F2_M2.mp4', 'C_1_1_89_BU_DYA_07-18_16-24-19_d_DF1_F2_F2.mp4', 'C_1_1_92_BU_DYA_07-18_16-42-53_d_DF1_F2_F2.mp4', 'C_1_1_89_BU_DYA_07-18_16-24-19_e_DF1_F2_F2.mp4', 'C_1_1_88_BU_DYB_10-19_10-56-16_CF_DF1_F4_F4.mp4', 'C_1_1_89_BU_DYB_10-19_11-02-29_CD_DF1_F4_F4.mp4', 'C_1_1_89_BU_DYB_10-19_11-02-29_CA_DF1_F4_F4.mp4', 'C_1_1_93_BU_DYB_10-19_11-51-57_CF_DF1_F4_F4.mp4', 'C_1_1_92_BU_DYA_07-18_16-42-53_b_DF1_F2_F2.mp4', 'C_1_1_91_BU_DYA_07-18_16-36-43_a_DF1_F2_M2.mp4', 'C_1_1_88_BU_DYB_10-19_10-56-16_CB_DF1_F4_F4.mp4', 'C_1_1_87_BU_DYB_10-19_13-49-35_CF_DF1_M4_M4.mp4', 'C_1_1_86_BU_DYB_10-19_13-43-22_CD_DF1_M4_M4.mp4', 'C_1_1_92_BU_DYB_10-19_11-45-54_CF_DF1_F4_F4.mp4', 'C_1_1_90_BU_DYA_07-18_16-30-36_a_DF1_F2_M2.mp4', 'C_1_1_91_BU_DYB_10-19_11-40-03_CA_DF1_F4_F4.mp4', 'C_1_1_93_BU_DYB_10-19_11-51-57_CD_DF1_F4_F4.mp4', 'C_1_1_88_BU_DYA_07-18_16-17-30_f_DF1_F2_M2.mp4', 'C_1_1_93_BU_DYA_07-18_17-06-38_f_DF1_F2_M2.mp4', 'C_1_1_86_BU_DYB_10-19_13-43-22_CE_DF1_M4_M4.mp4', 'C_1_1_88_BU_DYA_07-18_16-17-30_b_DF1_F2_M2.mp4', 'C_1_1_93_BU_DYA_07-18_17-06-38_a_DF1_F2_M2.mp4', 'C_1_1_91_BU_DYB_10-19_11-40-03_CD_DF1_F4_F4.mp4', 'C_1_1_87_BU_DYB_10-19_13-49-35_CA_DF1_M4_M4.mp4', 'C_1_1_87_BU_DYA_07-18_16-08-05_c_DF1_F2_M2.mp4', 'C_1_1_88_BU_DYA_07-18_16-17-30_a_DF1_F2_M2.mp4', 'C_1_1_87_BU_DYB_10-19_13-49-35_CC_DF1_M4_M4.mp4', 'C_1_1_88_BU_DYB_10-19_10-56-16_CA_DF1_F4_F4.mp4', 'C_1_1_90_BU_DYB_10-19_11-08-25_CA_DF1_F4_F4.mp4', 'C_1_1_86_BU_DYA_07-18_16-00-04_e_DF1_F2_F2.mp4', 'C_1_1_89_BU_DYA_07-18_16-24-19_f_DF1_F2_F2.mp4', 'C_1_1_92_BU_DYB_10-19_11-45-54_CB_DF1_F4_F4.mp4', 'C_1_1_91_BU_DYA_07-18_16-36-43_c_DF1_F2_M2.mp4', 'C_1_1_91_BU_DYB_10-19_11-40-03_CB_DF1_F4_F4.mp4', 'C_1_1_87_BU_DYA_07-18_16-08-05_f_DF1_F2_M2.mp4', 'C_1_1_85_BU_DYB_10-19_13-12-56_CB_DF1_M4_M4.mp4', 'C_1_1_86_BU_DYB_10-19_13-43-22_CA_DF1_M4_M4.mp4', 'C_1_1_93_BU_DYA_07-18_17-06-38_e_DF1_F2_M2.mp4', 'C_1_1_87_BU_DYB_10-19_13-49-35_CE_DF1_M4_M4.mp4', 'C_1_1_91_BU_DYB_10-19_11-40-03_CF_DF1_F4_F4.mp4', 'C_1_1_89_BU_DYB_10-19_11-02-29_CE_DF1_F4_F4.mp4', 'C_1_1_86_BU_DYA_07-18_16-00-04_b_DF1_F2_F2.mp4', 'C_1_1_89_BU_DYA_07-18_16-24-19_c_DF1_F2_F2.mp4', 'C_1_1_85_BU_DYB_10-19_13-12-56_CC_DF1_M4_M4.mp4', 'C_1_1_89_BU_DYA_07-18_16-24-19_b_DF1_F2_F2.mp4', 'C_1_1_86_BU_DYA_07-18_16-00-04_a_DF1_F2_F2.mp4', 'C_1_1_90_BU_DYA_07-18_16-30-36_b_DF1_F2_M2.mp4', 'C_1_1_88_BU_DYB_10-19_10-56-16_CE_DF1_F4_F4.mp4', 'C_1_1_93_BU_DYA_07-18_17-06-38_b_DF1_F2_M2.mp4', 'C_1_1_86_BU_DYA_07-18_16-00-04_c_DF1_F2_F2.mp4', 'C_1_1_92_BU_DYA_07-18_16-42-53_e_DF1_F2_F2.mp4', 'C_1_1_91_BU_DYA_07-18_16-36-43_d_DF1_F2_M2.mp4', 'C_1_1_90_BU_DYA_07-18_16-30-36_e_DF1_F2_M2.mp4', 'C_1_1_87_BU_DYA_07-18_16-08-05_e_DF1_F2_M2.mp4', 'C_1_1_86_BU_DYA_07-18_16-00-04_d_DF1_F2_F2.mp4', 'C_1_1_89_BU_DYA_07-18_16-24-19_a_DF1_F2_F2.mp4', 'C_1_1_88_BU_DYB_10-19_10-56-16_CC_DF1_F4_F4.mp4']\n"
     ]
    }
   ],
   "source": [
    "file_list = os.listdir(root)\n",
    "print(f\"==>> file_list: {file_list}\")"
   ]
  },
  {
   "cell_type": "code",
   "execution_count": 5,
   "metadata": {},
   "outputs": [],
   "source": [
    "# Load the YOLOv8 model\n",
    "model = YOLO(\"yolov8n-pose.pt\")\n",
    "\n",
    "# Define the standard frame size (change these values as needed)\n",
    "standard_width = 640\n",
    "standard_height = 480"
   ]
  },
  {
   "cell_type": "code",
   "execution_count": 6,
   "metadata": {},
   "outputs": [
    {
     "name": "stdout",
     "output_type": "stream",
     "text": [
      "==>> file_list: ['C_1_1_93_BU_DYB_10-19_11-51-57_CC_DF1_F4_F4.mp4', 'C_1_1_93_BU_DYB_10-19_11-51-57_CE_DF1_F4_F4.mp4', 'C_1_1_88_BU_DYA_07-18_16-17-30_d_DF1_F2_M2.mp4', 'C_1_1_88_BU_DYB_10-19_10-56-16_CD_DF1_F4_F4.mp4', 'C_1_1_92_BU_DYA_07-18_16-42-53_a_DF1_F2_F2.mp4']\n"
     ]
    }
   ],
   "source": [
    "# # test\n",
    "# file_list = file_list[:5]\n",
    "# print(f\"==>> file_list: {file_list}\")"
   ]
  },
  {
   "cell_type": "code",
   "execution_count": 6,
   "metadata": {},
   "outputs": [
    {
     "name": "stdout",
     "output_type": "stream",
     "text": [
      "C_1_1_93_BU_DYB_10-19_11-51-57_CC_DF1_F4_F4.mp4 feature extracting starts\n",
      "C_1_1_93_BU_DYB_10-19_11-51-57_CC_DF1_F4_F4.mp4 feature extracting ended. Elapsed time: 0:00:31\n",
      "C_1_1_93_BU_DYB_10-19_11-51-57_CE_DF1_F4_F4.mp4 feature extracting starts\n",
      "C_1_1_93_BU_DYB_10-19_11-51-57_CE_DF1_F4_F4.mp4 feature extracting ended. Elapsed time: 0:00:29\n",
      "C_1_1_88_BU_DYA_07-18_16-17-30_d_DF1_F2_M2.mp4 feature extracting starts\n",
      "C_1_1_88_BU_DYA_07-18_16-17-30_d_DF1_F2_M2.mp4 feature extracting ended. Elapsed time: 0:00:30\n",
      "C_1_1_88_BU_DYB_10-19_10-56-16_CD_DF1_F4_F4.mp4 feature extracting starts\n",
      "C_1_1_88_BU_DYB_10-19_10-56-16_CD_DF1_F4_F4.mp4 feature extracting ended. Elapsed time: 0:00:26\n",
      "C_1_1_92_BU_DYA_07-18_16-42-53_a_DF1_F2_F2.mp4 feature extracting starts\n",
      "C_1_1_92_BU_DYA_07-18_16-42-53_a_DF1_F2_F2.mp4 feature extracting ended. Elapsed time: 0:00:27\n",
      "C_1_1_86_BU_DYA_07-18_16-00-04_f_DF1_F2_F2.mp4 feature extracting starts\n",
      "C_1_1_86_BU_DYA_07-18_16-00-04_f_DF1_F2_F2.mp4 feature extracting ended. Elapsed time: 0:00:31\n",
      "C_1_1_92_BU_DYB_10-19_11-45-54_CE_DF1_F4_F4.mp4 feature extracting starts\n",
      "C_1_1_92_BU_DYB_10-19_11-45-54_CE_DF1_F4_F4.mp4 feature extracting ended. Elapsed time: 0:00:30\n",
      "C_1_1_89_BU_DYB_10-19_11-02-29_CB_DF1_F4_F4.mp4 feature extracting starts\n",
      "C_1_1_89_BU_DYB_10-19_11-02-29_CB_DF1_F4_F4.mp4 feature extracting ended. Elapsed time: 0:00:27\n",
      "C_1_1_90_BU_DYB_10-19_11-08-25_CC_DF1_F4_F4.mp4 feature extracting starts\n",
      "C_1_1_90_BU_DYB_10-19_11-08-25_CC_DF1_F4_F4.mp4 feature extracting ended. Elapsed time: 0:00:28\n",
      "C_1_1_93_BU_DYB_10-19_11-51-57_CA_DF1_F4_F4.mp4 feature extracting starts\n",
      "C_1_1_93_BU_DYB_10-19_11-51-57_CA_DF1_F4_F4.mp4 feature extracting ended. Elapsed time: 0:00:28\n",
      "C_1_1_92_BU_DYA_07-18_16-42-53_f_DF1_F2_F2.mp4 feature extracting starts\n"
     ]
    }
   ],
   "source": [
    "# Loop through the video frames\n",
    "frame_count = 0\n",
    "\n",
    "id_count = 0\n",
    "\n",
    "for file_name in file_list:\n",
    "    path = root + file_name\n",
    "\n",
    "    time_start = datetime.now()\n",
    "\n",
    "    print(f\"{file_name} feature extracting starts\")\n",
    "\n",
    "    cap = cv2.VideoCapture(path)\n",
    "\n",
    "    # Store the track history\n",
    "    track_history = defaultdict(lambda: [])\n",
    "\n",
    "    while cap.isOpened():\n",
    "        # Read a frame from the video\n",
    "        success, frame = cap.read()\n",
    "\n",
    "        frame_count += 1  # Increment frame count\n",
    "\n",
    "        if success:\n",
    "            frame = cv2.resize(frame, (standard_width, standard_height))\n",
    "\n",
    "            # Run YOLOv8 tracking on the frame, persisting tracks between frames\n",
    "            results = model.track(frame, persist=True, verbose=False)\n",
    "\n",
    "            if results[0].boxes is not None:  # Check if there are results and boxes\n",
    "                # Get the boxes\n",
    "                # boxes = results[0].boxes.xywh.cpu()\n",
    "\n",
    "                if results[0].boxes.id is not None:\n",
    "                    # If 'int' attribute exists (there are detections), get the track IDs\n",
    "                    track_ids = results[0].boxes.id.int().cpu().tolist()\n",
    "\n",
    "                    for i, box in zip(range(0, len(track_ids)), results[0].boxes.xywhn.cpu()):\n",
    "                        keypoints = results[0].keypoints.xyn[i].cpu().numpy().flatten().tolist()\n",
    "                        box_list = box.numpy().flatten().tolist()\n",
    "                        if type(box_list) == 'float' or type(keypoints) == 'float':\n",
    "                            print(f\"==>> box_list: {box_list}\")\n",
    "                            print(f\"==>> keypoints: {keypoints}\")\n",
    "                        box_and_keypoints = box_list + keypoints\n",
    "                        track_history[track_ids[i]].append([[frame_count], deepcopy(box_and_keypoints)])\n",
    "        else:\n",
    "            # Break the loop if the end of the video is reached\n",
    "            break\n",
    "\n",
    "    with open(f\"{folder_name}.csv\", \"a\") as c_file:\n",
    "        writer = csv.writer(c_file, delimiter=\",\")\n",
    "        for key in track_history.keys():\n",
    "            for f_count, b_and_k in track_history[key]:\n",
    "                row = f_count + [id_count+key] + b_and_k\n",
    "\n",
    "                writer.writerow(row)\n",
    "\n",
    "    id_count = id_count + len(track_history.keys())\n",
    "\n",
    "    cap.release()\n",
    "\n",
    "    time_end = datetime.now()\n",
    "    total_time = time_end - time_start\n",
    "    total_time = str(total_time).split(\".\")[0]\n",
    "\n",
    "    print(f\"{file_name} feature extracting ended. Elapsed time: {total_time}\")\n",
    "\n",
    "cv2.destroyAllWindows()"
   ]
  },
  {
   "cell_type": "code",
   "execution_count": null,
   "metadata": {},
   "outputs": [],
   "source": []
  }
 ],
 "metadata": {
  "kernelspec": {
   "display_name": ".venv",
   "language": "python",
   "name": "python3"
  },
  "language_info": {
   "codemirror_mode": {
    "name": "ipython",
    "version": 3
   },
   "file_extension": ".py",
   "mimetype": "text/x-python",
   "name": "python",
   "nbconvert_exporter": "python",
   "pygments_lexer": "ipython3",
   "version": "3.11.4"
  }
 },
 "nbformat": 4,
 "nbformat_minor": 2
}
